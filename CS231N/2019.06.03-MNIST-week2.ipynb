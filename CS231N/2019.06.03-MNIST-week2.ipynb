{
 "cells": [
  {
   "cell_type": "markdown",
   "metadata": {},
   "source": [
    "# 初识卷积神经网络——MNIST\n",
    "## 1.课前碎碎念\n",
    "MNIST--手写数字识别被很多人称作是深度学习的“Hello World！”\n",
    "MNIST确实是一个简洁又简单的数据集，也是第一个深度学习算法解决的实际问题，\n",
    "MNIST数据集很小，很适合教学实用，同时资源占用较少，没有GPU也能够进行训练。\n",
    "\n",
    "我比较不喜欢“Hello World！”这个比喻，想要完全掌握MNIST，所需要的知识远不是敲进去一行代码就可以的。\n",
    "实际上GAN最早被提出时，也是在MNIST数据集上做的验证。\n",
    "\n",
    "在我有限的知识背景下，中心损失函数也是使用MNIST进行验证的。\n",
    "\n",
    "——江小河  课前碎碎念"
   ]
  },
  {
   "cell_type": "markdown",
   "metadata": {},
   "source": [
    "## 2.使用Keras编写Lenet\n",
    "首先我们导入算法框架工具包"
   ]
  },
  {
   "cell_type": "code",
   "execution_count": 1,
   "metadata": {},
   "outputs": [],
   "source": [
    "import tensorflow.keras as K\n",
    "# import keras as K\n",
    "import numpy as np\n",
    "import matplotlib.pyplot as plt\n",
    "%matplotlib inline"
   ]
  },
  {
   "cell_type": "markdown",
   "metadata": {},
   "source": [
    "我这里首先使用tensorflow后端的Keras进行讲解，注意这里我使用tensorflow.keras来引入keras。这是因为至少从1.9.0版本以后，tensorflow已经讲keras默认继承安装在了tensorflow包中。很多keras的教程会要求分别安装tensorflow和keras，通过import keras来导入。实际上没有任何区别（目前没有发现任何区别）"
   ]
  },
  {
   "cell_type": "code",
   "execution_count": 2,
   "metadata": {},
   "outputs": [],
   "source": [
    "from tensorflow.keras.datasets import mnist\n",
    "(x_train, y_train), (x_test, y_test) = mnist.load_data()"
   ]
  },
  {
   "cell_type": "code",
   "execution_count": 3,
   "metadata": {},
   "outputs": [
    {
     "name": "stdout",
     "output_type": "stream",
     "text": [
      "x_train`s shape is (60000, 28, 28)\n",
      "y_train`s shape is (60000,)\n",
      "x_test`s shape is (10000, 28, 28)\n",
      "y_test`s shape is (10000,)\n"
     ]
    }
   ],
   "source": [
    "def check_dimension(data, data_name):\n",
    "    assert type(data) is np.ndarray\n",
    "    print(data_name+\"`s shape is \" + str(data.shape))\n",
    "\n",
    "check_dimension(x_train, \"x_train\")\n",
    "check_dimension(y_train, \"y_train\")\n",
    "check_dimension(x_test, \"x_test\")\n",
    "check_dimension(y_test, \"y_test\")"
   ]
  },
  {
   "cell_type": "code",
   "execution_count": 4,
   "metadata": {},
   "outputs": [
    {
     "name": "stdout",
     "output_type": "stream",
     "text": [
      "Num 43786 is an image for 9.\n",
      "Num 9839 is an image for 2.\n"
     ]
    },
    {
     "data": {
      "image/png": "[encoded data removed]",
      "text/plain": [
       "<Figure size 432x288 with 1 Axes>"
      ]
     },
     "metadata": {
      "needs_background": "light"
     },
     "output_type": "display_data"
    },
    {
     "data": {
      "image/png": "[encoded data removed]",
      "text/plain": [
       "<Figure size 432x288 with 1 Axes>"
      ]
     },
     "metadata": {
      "needs_background": "light"
     },
     "output_type": "display_data"
    }
   ],
   "source": [
    "def check_example(x, y, number=None):\n",
    "    if number == None:\n",
    "        number = np.random.randint(x.shape[0])\n",
    "    print(\"Num {} is an image for {}.\".format(number, y[number]))\n",
    "    plt.figure()\n",
    "    plt.imshow(x[number])\n",
    "\n",
    "check_example(x_train, y_train)\n",
    "check_example(x_test, y_test)"
   ]
  },
  {
   "cell_type": "code",
   "execution_count": 5,
   "metadata": {},
   "outputs": [],
   "source": [
    "from tensorflow.keras.backend import one_hot\n",
    "y_train = K.backend.eval(one_hot(y_train, 10))\n",
    "y_test= K.backend.eval(one_hot(y_test, 10))"
   ]
  },
  {
   "cell_type": "code",
   "execution_count": 6,
   "metadata": {},
   "outputs": [
    {
     "name": "stdout",
     "output_type": "stream",
     "text": [
      "x_train`s shape is (60000, 28, 28)\n",
      "y_train`s shape is (60000, 10)\n",
      "x_test`s shape is (10000, 28, 28)\n",
      "y_test`s shape is (10000, 10)\n"
     ]
    }
   ],
   "source": [
    "check_dimension(x_train, \"x_train\")\n",
    "check_dimension(y_train, \"y_train\")\n",
    "check_dimension(x_test, \"x_test\")\n",
    "check_dimension(y_test, \"y_test\")"
   ]
  },
  {
   "cell_type": "code",
   "execution_count": 7,
   "metadata": {},
   "outputs": [
    {
     "name": "stderr",
     "output_type": "stream",
     "text": [
      "Using TensorFlow backend.\n"
     ]
    }
   ],
   "source": [
    "# from keras.models import Sequential\n",
    "# from keras.layers import Dense, Activation\n",
    "from tensorflow.keras.models import Sequential\n",
    "from tensorflow.keras.layers import Dense, Activation\n",
    "from tensorflow.keras.layers import Input, Dense, Flatten, Conv2D, MaxPooling2D, Dropout, BatchNormalization, GlobalAveragePooling2D\n",
    "from tensorflow.keras import regularizers\n",
    "from keras.preprocessing.image import ImageDataGenerator"
   ]
  },
  {
   "cell_type": "markdown",
   "metadata": {},
   "source": [
    "导入Lenet模型图，作为创建网络的参考"
   ]
  },
  {
   "cell_type": "markdown",
   "metadata": {},
   "source": [
    "![Lenet](https://timgsa.baidu.com/timg?image&quality=80&size=b9999_10000&sec=1559582032465&di=4a4061c5062506fc7a4a4d605d2e2443&imgtype=0&src=http%3A%2F%2Fmmbiz.qpic.cn%2Fmmbiz_png%2F4lN1XOZshffJhuEYgHmB6aNaASYT9xjqANHsYIBsibQdynicOGUkqgNHBMbX0LHLhCiaswHvE0IltaZFIPWNJia9Yw%2F640%3Fwx_fmt%3Dpng)"
   ]
  },
  {
   "cell_type": "code",
   "execution_count": 8,
   "metadata": {},
   "outputs": [
    {
     "name": "stdout",
     "output_type": "stream",
     "text": [
      "WARNING:tensorflow:From D:\\AI\\Configuration\\Anaconda3\\envs\\CV-ND\\lib\\site-packages\\tensorflow\\python\\ops\\resource_variable_ops.py:435: colocate_with (from tensorflow.python.framework.ops) is deprecated and will be removed in a future version.\n",
      "Instructions for updating:\n",
      "Colocations handled automatically by placer.\n"
     ]
    }
   ],
   "source": [
    "model = Sequential()\n",
    "model.add(Conv2D(6, kernel_size=(5, 5), padding=\"same\", activation=\"relu\", input_shape=(28,28,1)))\n",
    "model.add(MaxPooling2D((2,2)))\n",
    "model.add(Conv2D(16, kernel_size=(5, 5), padding=\"valid\", activation=\"relu\"))\n",
    "model.add(MaxPooling2D((2,2)))\n",
    "model.add(Flatten())\n",
    "model.add(Dense(120, activation=\"relu\"))\n",
    "model.add(Dense(84, activation=\"relu\"))\n",
    "model.add(Dense(10, activation=\"softmax\"))"
   ]
  },
  {
   "cell_type": "markdown",
   "metadata": {},
   "source": [
    "查看网络摘要，和Lenet进行对比"
   ]
  },
  {
   "cell_type": "code",
   "execution_count": 9,
   "metadata": {},
   "outputs": [
    {
     "name": "stdout",
     "output_type": "stream",
     "text": [
      "_________________________________________________________________\n",
      "Layer (type)                 Output Shape              Param #   \n",
      "=================================================================\n",
      "conv2d (Conv2D)              (None, 28, 28, 6)         156       \n",
      "_________________________________________________________________\n",
      "max_pooling2d (MaxPooling2D) (None, 14, 14, 6)         0         \n",
      "_________________________________________________________________\n",
      "conv2d_1 (Conv2D)            (None, 10, 10, 16)        2416      \n",
      "_________________________________________________________________\n",
      "max_pooling2d_1 (MaxPooling2 (None, 5, 5, 16)          0         \n",
      "_________________________________________________________________\n",
      "flatten (Flatten)            (None, 400)               0         \n",
      "_________________________________________________________________\n",
      "dense (Dense)                (None, 120)               48120     \n",
      "_________________________________________________________________\n",
      "dense_1 (Dense)              (None, 84)                10164     \n",
      "_________________________________________________________________\n",
      "dense_2 (Dense)              (None, 10)                850       \n",
      "=================================================================\n",
      "Total params: 61,706\n",
      "Trainable params: 61,706\n",
      "Non-trainable params: 0\n",
      "_________________________________________________________________\n"
     ]
    }
   ],
   "source": [
    "model.summary()"
   ]
  },
  {
   "cell_type": "markdown",
   "metadata": {},
   "source": [
    "编译模型（设置优化器，优化参数）"
   ]
  },
  {
   "cell_type": "markdown",
   "metadata": {},
   "source": [
    "## 3.训练模型"
   ]
  },
  {
   "cell_type": "code",
   "execution_count": 10,
   "metadata": {},
   "outputs": [],
   "source": [
    "adam = K.optimizers.Adam(lr=0.0001)\n",
    "model.compile(optimizer=adam, loss='categorical_crossentropy', metrics=['accuracy'])"
   ]
  },
  {
   "cell_type": "markdown",
   "metadata": {},
   "source": [
    "设置mini_batch"
   ]
  },
  {
   "cell_type": "code",
   "execution_count": 11,
   "metadata": {},
   "outputs": [],
   "source": [
    "def gen_mini_batch():\n",
    "    pass\n",
    "#keras 的训练函数可以进行batchsize的设置"
   ]
  },
  {
   "cell_type": "code",
   "execution_count": 12,
   "metadata": {},
   "outputs": [],
   "source": [
    "x_train = K.backend.eval(K.backend.expand_dims(x_train, axis=-1))\n",
    "x_test = K.backend.eval(K.backend.expand_dims(x_test, axis=-1))"
   ]
  },
  {
   "cell_type": "markdown",
   "metadata": {},
   "source": [
    "训练模型"
   ]
  },
  {
   "cell_type": "code",
   "execution_count": 13,
   "metadata": {},
   "outputs": [
    {
     "name": "stdout",
     "output_type": "stream",
     "text": [
      "WARNING:tensorflow:From D:\\AI\\Configuration\\Anaconda3\\envs\\CV-ND\\lib\\site-packages\\tensorflow\\python\\ops\\math_ops.py:3066: to_int32 (from tensorflow.python.ops.math_ops) is deprecated and will be removed in a future version.\n",
      "Instructions for updating:\n",
      "Use tf.cast instead.\n",
      "Epoch 1/10\n",
      "60000/60000 [==============================] - 6s 103us/sample - loss: 6.7444 - acc: 0.5472\n",
      "Epoch 2/10\n",
      "60000/60000 [==============================] - 5s 76us/sample - loss: 3.9644 - acc: 0.7240\n",
      "Epoch 3/10\n",
      "60000/60000 [==============================] - 5s 76us/sample - loss: 2.3455 - acc: 0.8211\n",
      "Epoch 4/10\n",
      "60000/60000 [==============================] - 5s 76us/sample - loss: 1.7412 - acc: 0.8659\n",
      "Epoch 5/10\n",
      "60000/60000 [==============================] - 5s 76us/sample - loss: 1.6989 - acc: 0.8740\n",
      "Epoch 6/10\n",
      "60000/60000 [==============================] - 4s 75us/sample - loss: 1.6715 - acc: 0.8796\n",
      "Epoch 7/10\n",
      "60000/60000 [==============================] - 5s 80us/sample - loss: 1.6521 - acc: 0.8840\n",
      "Epoch 8/10\n",
      "60000/60000 [==============================] - 5s 78us/sample - loss: 1.6383 - acc: 0.8876\n",
      "Epoch 9/10\n",
      "60000/60000 [==============================] - 4s 75us/sample - loss: 1.6280 - acc: 0.8902\n",
      "Epoch 10/10\n",
      "60000/60000 [==============================] - 5s 78us/sample - loss: 1.6217 - acc: 0.8914\n"
     ]
    }
   ],
   "source": [
    "history_lenet_0 = model.fit(x_train, y_train, batch_size=64, epochs=10, shuffle=True)"
   ]
  },
  {
   "cell_type": "markdown",
   "metadata": {},
   "source": [
    "## 4.测试模型"
   ]
  },
  {
   "cell_type": "code",
   "execution_count": 14,
   "metadata": {},
   "outputs": [
    {
     "data": {
      "text/plain": [
       "0.8835"
      ]
     },
     "execution_count": 14,
     "metadata": {},
     "output_type": "execute_result"
    }
   ],
   "source": [
    "#使用模型在测试集上进行预测，生成结果为numpy.ndarray, shape=(10000, 10)\n",
    "y_test_predict = model.predict(x_test)\n",
    "#使用np.argmax可以求得预测样本标签，e.g. 1,2,3,...9\n",
    "y_label_pre = np.argmax(y_test_predict, axis=-1)\n",
    "#求测试准确度\n",
    "test_acc = np.sum((y_label_pre==np.argmax(y_test, axis=-1)).astype(int))/y_label_pre.shape[0]\n",
    "test_acc"
   ]
  },
  {
   "cell_type": "code",
   "execution_count": 15,
   "metadata": {},
   "outputs": [
    {
     "data": {
      "text/plain": [
       "[<matplotlib.lines.Line2D at 0x2233c863748>]"
      ]
     },
     "execution_count": 15,
     "metadata": {},
     "output_type": "execute_result"
    },
    {
     "data": {
      "image/png": "[encoded data removed]",
      "text/plain": [
       "<Figure size 432x288 with 1 Axes>"
      ]
     },
     "metadata": {
      "needs_background": "light"
     },
     "output_type": "display_data"
    }
   ],
   "source": [
    "history_lenet_0.history\n",
    "plt.title(\"history_lenet_0\")\n",
    "plt.plot(history_lenet_0.history['acc'], c='r')\n",
    "plt.plot(history_lenet_0.history['loss'], c='b')"
   ]
  },
  {
   "cell_type": "markdown",
   "metadata": {},
   "source": [
    "## 5.TODO List"
   ]
  },
  {
   "cell_type": "markdown",
   "metadata": {},
   "source": [
    "### 1.修改网络参数进行测试，争取得到更好的结果。\n",
    "    如：网络深度，卷积核个数，卷积核尺寸，池化尺寸，全连接隐藏层节点数，归一化操作，batchsize，学习率，正则化参数……\n",
    "    （挑学会了的看懂了的改……）\n",
    "### 2.在修改网络之前，手推一遍自己的网络输出尺寸，参数量大小，使用summary函数进行验证。\n",
    "### 3.（选做）扩充版QMNIST数据集\n",
    "    github上推出了扩充版的MNIST数据集，下载并进行测试。\n",
    "    传送门：https://github.com/facebookresearch/qmnist\n",
    "    （可能需要GPU）"
   ]
  },
  {
   "cell_type": "markdown",
   "metadata": {},
   "source": [
    "## 参考VGG16构架缩减了卷积核数量，添加BacthNorm、Dropout层、GAP层        替换FC"
   ]
  },
  {
   "cell_type": "code",
   "execution_count": 16,
   "metadata": {},
   "outputs": [
    {
     "name": "stdout",
     "output_type": "stream",
     "text": [
      "WARNING:tensorflow:From D:\\AI\\Configuration\\Anaconda3\\envs\\CV-ND\\lib\\site-packages\\tensorflow\\python\\keras\\layers\\core.py:143: calling dropout (from tensorflow.python.ops.nn_ops) with keep_prob is deprecated and will be removed in a future version.\n",
      "Instructions for updating:\n",
      "Please use `rate` instead of `keep_prob`. Rate should be set to `rate = 1 - keep_prob`.\n"
     ]
    }
   ],
   "source": [
    "model1 = Sequential()\n",
    "model1.add(Conv2D(16, kernel_size=(3, 3), padding=\"same\", activation=\"relu\", input_shape=(28,28,1)))\n",
    "model1.add(BatchNormalization())\n",
    "model1.add(Conv2D(16, kernel_size=(3, 3), padding=\"same\", activation=\"relu\"))\n",
    "model1.add(BatchNormalization())\n",
    "model1.add(MaxPooling2D((2,2)))\n",
    "model1.add(Conv2D(32, kernel_size=(3, 3), padding=\"same\", activation=\"relu\"))\n",
    "model1.add(BatchNormalization())\n",
    "model1.add(Conv2D(32, kernel_size=(3, 3), padding=\"same\", activation=\"relu\"))\n",
    "model1.add(BatchNormalization())\n",
    "model1.add(MaxPooling2D((2,2)))\n",
    "model1.add(Conv2D(64, kernel_size=(3, 3), padding=\"same\", activation=\"relu\"))\n",
    "model1.add(BatchNormalization())\n",
    "model1.add(Conv2D(64, kernel_size=(3, 3), padding=\"same\", activation=\"relu\"))\n",
    "model1.add(BatchNormalization())\n",
    "model1.add(MaxPooling2D((2,2)))\n",
    "model1.add(Conv2D(128, kernel_size=(3, 3), padding=\"same\", activation=\"relu\"))\n",
    "model1.add(BatchNormalization())\n",
    "model1.add(Conv2D(128, kernel_size=(3, 3), padding=\"same\", activation=\"relu\"))\n",
    "model1.add(BatchNormalization())\n",
    "model1.add(GlobalAveragePooling2D()) \n",
    "model1.add(Dropout(0.25))\n",
    "model1.add(Dense(64, activation=\"relu\", kernel_regularizer=regularizers.l2(0.01)))\n",
    "model1.add(Dropout(0.25))\n",
    "model1.add(Dense(32, activation=\"relu\", kernel_regularizer=regularizers.l2(0.01)))\n",
    "model1.add(Dropout(0.25))\n",
    "model1.add(Dense(10, activation=\"softmax\"))"
   ]
  },
  {
   "cell_type": "code",
   "execution_count": 17,
   "metadata": {},
   "outputs": [
    {
     "name": "stdout",
     "output_type": "stream",
     "text": [
      "_________________________________________________________________\n",
      "Layer (type)                 Output Shape              Param #   \n",
      "=================================================================\n",
      "conv2d_2 (Conv2D)            (None, 28, 28, 16)        160       \n",
      "_________________________________________________________________\n",
      "batch_normalization_v1 (Batc (None, 28, 28, 16)        64        \n",
      "_________________________________________________________________\n",
      "conv2d_3 (Conv2D)            (None, 28, 28, 16)        2320      \n",
      "_________________________________________________________________\n",
      "batch_normalization_v1_1 (Ba (None, 28, 28, 16)        64        \n",
      "_________________________________________________________________\n",
      "max_pooling2d_2 (MaxPooling2 (None, 14, 14, 16)        0         \n",
      "_________________________________________________________________\n",
      "conv2d_4 (Conv2D)            (None, 14, 14, 32)        4640      \n",
      "_________________________________________________________________\n",
      "batch_normalization_v1_2 (Ba (None, 14, 14, 32)        128       \n",
      "_________________________________________________________________\n",
      "conv2d_5 (Conv2D)            (None, 14, 14, 32)        9248      \n",
      "_________________________________________________________________\n",
      "batch_normalization_v1_3 (Ba (None, 14, 14, 32)        128       \n",
      "_________________________________________________________________\n",
      "max_pooling2d_3 (MaxPooling2 (None, 7, 7, 32)          0         \n",
      "_________________________________________________________________\n",
      "conv2d_6 (Conv2D)            (None, 7, 7, 64)          18496     \n",
      "_________________________________________________________________\n",
      "batch_normalization_v1_4 (Ba (None, 7, 7, 64)          256       \n",
      "_________________________________________________________________\n",
      "conv2d_7 (Conv2D)            (None, 7, 7, 64)          36928     \n",
      "_________________________________________________________________\n",
      "batch_normalization_v1_5 (Ba (None, 7, 7, 64)          256       \n",
      "_________________________________________________________________\n",
      "max_pooling2d_4 (MaxPooling2 (None, 3, 3, 64)          0         \n",
      "_________________________________________________________________\n",
      "conv2d_8 (Conv2D)            (None, 3, 3, 128)         73856     \n",
      "_________________________________________________________________\n",
      "batch_normalization_v1_6 (Ba (None, 3, 3, 128)         512       \n",
      "_________________________________________________________________\n",
      "conv2d_9 (Conv2D)            (None, 3, 3, 128)         147584    \n",
      "_________________________________________________________________\n",
      "batch_normalization_v1_7 (Ba (None, 3, 3, 128)         512       \n",
      "_________________________________________________________________\n",
      "global_average_pooling2d (Gl (None, 128)               0         \n",
      "_________________________________________________________________\n",
      "dropout (Dropout)            (None, 128)               0         \n",
      "_________________________________________________________________\n",
      "dense_3 (Dense)              (None, 64)                8256      \n",
      "_________________________________________________________________\n",
      "dropout_1 (Dropout)          (None, 64)                0         \n",
      "_________________________________________________________________\n",
      "dense_4 (Dense)              (None, 32)                2080      \n",
      "_________________________________________________________________\n",
      "dropout_2 (Dropout)          (None, 32)                0         \n",
      "_________________________________________________________________\n",
      "dense_5 (Dense)              (None, 10)                330       \n",
      "=================================================================\n",
      "Total params: 305,818\n",
      "Trainable params: 304,858\n",
      "Non-trainable params: 960\n",
      "_________________________________________________________________\n"
     ]
    }
   ],
   "source": [
    "model1.summary()"
   ]
  },
  {
   "cell_type": "code",
   "execution_count": 18,
   "metadata": {
    "scrolled": true
   },
   "outputs": [
    {
     "name": "stdout",
     "output_type": "stream",
     "text": [
      "Epoch 1/50\n",
      "60000/60000 [==============================] - 7s 111us/sample - loss: 2.1096 - acc: 0.7129\n",
      "Epoch 2/50\n",
      "60000/60000 [==============================] - 4s 69us/sample - loss: 1.0726 - acc: 0.9582\n",
      "Epoch 3/50\n",
      "60000/60000 [==============================] - 4s 69us/sample - loss: 0.7425 - acc: 0.9786\n",
      "Epoch 4/50\n",
      "60000/60000 [==============================] - 4s 68us/sample - loss: 0.5331 - acc: 0.9866\n",
      "Epoch 5/50\n",
      "60000/60000 [==============================] - 4s 68us/sample - loss: 0.3977 - acc: 0.9906\n",
      "Epoch 6/50\n",
      "60000/60000 [==============================] - 4s 68us/sample - loss: 0.3100 - acc: 0.9926\n",
      "Epoch 7/50\n",
      "60000/60000 [==============================] - 4s 68us/sample - loss: 0.2491 - acc: 0.9944\n",
      "Epoch 8/50\n",
      "60000/60000 [==============================] - 4s 68us/sample - loss: 0.2077 - acc: 0.9958\n",
      "Epoch 9/50\n",
      "60000/60000 [==============================] - 4s 68us/sample - loss: 0.1787 - acc: 0.9974\n",
      "Epoch 10/50\n",
      "60000/60000 [==============================] - 4s 68us/sample - loss: 0.1579 - acc: 0.9978\n",
      "Epoch 11/50\n",
      "60000/60000 [==============================] - 4s 68us/sample - loss: 0.1428 - acc: 0.9981\n",
      "Epoch 12/50\n",
      "60000/60000 [==============================] - 4s 69us/sample - loss: 0.1319 - acc: 0.9984\n",
      "Epoch 13/50\n",
      "60000/60000 [==============================] - 4s 70us/sample - loss: 0.1237 - acc: 0.9984\n",
      "Epoch 14/50\n",
      "60000/60000 [==============================] - 4s 69us/sample - loss: 0.1166 - acc: 0.9987\n",
      "Epoch 15/50\n",
      "60000/60000 [==============================] - 4s 71us/sample - loss: 0.1103 - acc: 0.9986\n",
      "Epoch 16/50\n",
      "60000/60000 [==============================] - 4s 70us/sample - loss: 0.1036 - acc: 0.9992\n",
      "Epoch 17/50\n",
      "60000/60000 [==============================] - 4s 69us/sample - loss: 0.0989 - acc: 0.9994\n",
      "Epoch 18/50\n",
      "60000/60000 [==============================] - 4s 69us/sample - loss: 0.0948 - acc: 0.9994\n",
      "Epoch 19/50\n",
      "60000/60000 [==============================] - 4s 68us/sample - loss: 0.0912 - acc: 0.9993\n",
      "Epoch 20/50\n",
      "60000/60000 [==============================] - 4s 69us/sample - loss: 0.0881 - acc: 0.9995\n",
      "Epoch 21/50\n",
      "60000/60000 [==============================] - 4s 68us/sample - loss: 0.0843 - acc: 0.9996\n",
      "Epoch 22/50\n",
      "60000/60000 [==============================] - 4s 68us/sample - loss: 0.0816 - acc: 0.9997\n",
      "Epoch 23/50\n",
      "60000/60000 [==============================] - 4s 68us/sample - loss: 0.0792 - acc: 0.9996\n",
      "Epoch 24/50\n",
      "60000/60000 [==============================] - 4s 69us/sample - loss: 0.0772 - acc: 0.9997\n",
      "Epoch 25/50\n",
      "60000/60000 [==============================] - 4s 69us/sample - loss: 0.0749 - acc: 0.9995\n",
      "Epoch 26/50\n",
      "60000/60000 [==============================] - 4s 69us/sample - loss: 0.0729 - acc: 0.9997\n",
      "Epoch 27/50\n",
      "60000/60000 [==============================] - 4s 69us/sample - loss: 0.0706 - acc: 0.9996\n",
      "Epoch 28/50\n",
      "60000/60000 [==============================] - 4s 69us/sample - loss: 0.0688 - acc: 0.9996\n",
      "Epoch 29/50\n",
      "60000/60000 [==============================] - 4s 68us/sample - loss: 0.0672 - acc: 0.9997\n",
      "Epoch 30/50\n",
      "60000/60000 [==============================] - 4s 68us/sample - loss: 0.0656 - acc: 0.9998\n",
      "Epoch 31/50\n",
      "60000/60000 [==============================] - 4s 68us/sample - loss: 0.0640 - acc: 0.9997\n",
      "Epoch 32/50\n",
      "60000/60000 [==============================] - 4s 68us/sample - loss: 0.0625 - acc: 0.9997\n",
      "Epoch 33/50\n",
      "60000/60000 [==============================] - 4s 68us/sample - loss: 0.0618 - acc: 0.9996\n",
      "Epoch 34/50\n",
      "60000/60000 [==============================] - 4s 68us/sample - loss: 0.0610 - acc: 0.9995\n",
      "Epoch 35/50\n",
      "60000/60000 [==============================] - 4s 68us/sample - loss: 0.0622 - acc: 0.9988\n",
      "Epoch 36/50\n",
      "60000/60000 [==============================] - 4s 68us/sample - loss: 0.0683 - acc: 0.9968\n",
      "Epoch 37/50\n",
      "60000/60000 [==============================] - 4s 68us/sample - loss: 0.0706 - acc: 0.9961\n",
      "Epoch 38/50\n",
      "60000/60000 [==============================] - 4s 68us/sample - loss: 0.0670 - acc: 0.9967\n",
      "Epoch 39/50\n",
      "60000/60000 [==============================] - 4s 70us/sample - loss: 0.0626 - acc: 0.9977\n",
      "Epoch 40/50\n",
      "60000/60000 [==============================] - 4s 71us/sample - loss: 0.0581 - acc: 0.9987\n",
      "Epoch 41/50\n",
      "60000/60000 [==============================] - 4s 69us/sample - loss: 0.0558 - acc: 0.9990\n",
      "Epoch 42/50\n",
      "60000/60000 [==============================] - 4s 68us/sample - loss: 0.0532 - acc: 0.9995\n",
      "Epoch 43/50\n",
      "60000/60000 [==============================] - 4s 68us/sample - loss: 0.0517 - acc: 0.9996\n",
      "Epoch 44/50\n",
      "60000/60000 [==============================] - 4s 68us/sample - loss: 0.0499 - acc: 0.9997\n",
      "Epoch 45/50\n",
      "60000/60000 [==============================] - 4s 69us/sample - loss: 0.0494 - acc: 0.9998\n",
      "Epoch 46/50\n",
      "60000/60000 [==============================] - 4s 70us/sample - loss: 0.0482 - acc: 0.9997\n",
      "Epoch 47/50\n",
      "60000/60000 [==============================] - 4s 70us/sample - loss: 0.0475 - acc: 0.9997\n",
      "Epoch 48/50\n",
      "60000/60000 [==============================] - 4s 68us/sample - loss: 0.0468 - acc: 0.9997\n",
      "Epoch 49/50\n",
      "60000/60000 [==============================] - 4s 68us/sample - loss: 0.0461 - acc: 0.9997\n",
      "Epoch 50/50\n",
      "60000/60000 [==============================] - 4s 69us/sample - loss: 0.0453 - acc: 0.9997\n"
     ]
    }
   ],
   "source": [
    "adam = K.optimizers.Adam(lr=0.001, decay=1e-5, epsilon=1e-08)\n",
    "model1.compile(optimizer=adam, loss='categorical_crossentropy', metrics=['accuracy'])\n",
    "history_lenet_0 = model1.fit(x_train, y_train, batch_size=2048, epochs=50, shuffle=True)"
   ]
  },
  {
   "cell_type": "code",
   "execution_count": 19,
   "metadata": {},
   "outputs": [
    {
     "data": {
      "text/plain": [
       "0.9951"
      ]
     },
     "execution_count": 19,
     "metadata": {},
     "output_type": "execute_result"
    }
   ],
   "source": [
    "y_test_predict = model1.predict(x_test)\n",
    "y_label_pre = np.argmax(y_test_predict, axis=-1)\n",
    "test_acc = np.sum((y_label_pre==np.argmax(y_test, axis=-1)).astype(int))/y_label_pre.shape[0]\n",
    "test_acc"
   ]
  },
  {
   "cell_type": "markdown",
   "metadata": {},
   "source": [
    "## Q2:\n",
    "|Layer|Output Shape| Parm|\n",
    "|---|---|---|\n",
    "|CONV1-1| `28 * 28 * 16`| `(3*3+1) * 16`|\n",
    "|CONV1-2| `28 * 28 * 16`| `(3*3*16+1) * 16`|\n",
    "|MAX POOL1| `14 * 14 * 16`| 0 |\n",
    "|CONV2-1| `14 * 14 * 32`| `(3*3*16+1) * 32`|\n",
    "|CONV2-2| `14 * 14 * 32`| `(3*3*32+1) * 32`|\n",
    "|MAX POOL2| `7 * 7 * 32`| 0 |\n",
    "|CONV2-1| `7 * 7 * 64`| `(3*3*32+1) * 64`|\n",
    "|CONV2-2| `7 * 7 * 64`| `(3*3*64+1) * 64`|\n",
    "|MAX POOL3| `7 * 7 * 32`| 0 |\n",
    "|CONV3-1| `3 * 3 * 128`| `(3*3*64+1) * 128`|\n",
    "|CONV3-2| `3 * 3 * 128`| `(3*3*128+1) * 128`|\n",
    "|GAP| `1 * 128`| 0 |\n",
    "|FC1|`1*64`|`(128+1) * 64`|\n",
    "|FC2|`1*32`|`(64+1) * 32`|\n",
    "|FC3|`1*10`|`(32+1) * 10`|"
   ]
  },
  {
   "cell_type": "code",
   "execution_count": 20,
   "metadata": {},
   "outputs": [],
   "source": [
    "from sklearn.model_selection import train_test_split\n",
    "x_train, x_val, y_train, y_val = train_test_split(x_train,y_train,test_size=0.1, random_state=0)"
   ]
  },
  {
   "cell_type": "code",
   "execution_count": 21,
   "metadata": {},
   "outputs": [],
   "source": [
    "from tensorflow.keras.callbacks import  ReduceLROnPlateau\n",
    "lr = ReduceLROnPlateau(monitor='val_acc',\n",
    "                      patience=3,\n",
    "                      verbose=1,\n",
    "                      factor=0.7,\n",
    "                      min_lr=0.00001)"
   ]
  },
  {
   "cell_type": "code",
   "execution_count": 22,
   "metadata": {
    "collapsed": true
   },
   "outputs": [
    {
     "name": "stdout",
     "output_type": "stream",
     "text": [
      "Epoch 1/80\n",
      "6000/6000 [==============================] - 1s 125us/sample - loss: 0.1386 - acc: 0.9762\n",
      "27/27 [==============================] - 11s 402ms/step - loss: 0.2075 - acc: 0.9591 - val_loss: 0.1387 - val_acc: 0.9762\n",
      "Epoch 2/80\n",
      "6000/6000 [==============================] - 0s 22us/sample - loss: 0.1202 - acc: 0.9807\n",
      "27/27 [==============================] - 9s 344ms/step - loss: 0.1287 - acc: 0.9793 - val_loss: 0.1199 - val_acc: 0.9807\n",
      "Epoch 3/80\n",
      "6000/6000 [==============================] - 0s 21us/sample - loss: 0.0832 - acc: 0.9890\n",
      "27/27 [==============================] - 10s 367ms/step - loss: 0.1165 - acc: 0.9832 - val_loss: 0.0833 - val_acc: 0.9890\n",
      "Epoch 4/80\n",
      "6000/6000 [==============================] - 0s 21us/sample - loss: 0.0763 - acc: 0.9912\n",
      "27/27 [==============================] - 10s 368ms/step - loss: 0.1036 - acc: 0.9857 - val_loss: 0.0763 - val_acc: 0.9912\n",
      "Epoch 5/80\n",
      "6000/6000 [==============================] - 0s 22us/sample - loss: 0.0660 - acc: 0.9922\n",
      "27/27 [==============================] - 10s 373ms/step - loss: 0.0954 - acc: 0.9873 - val_loss: 0.0661 - val_acc: 0.9922\n",
      "Epoch 6/80\n",
      "6000/6000 [==============================] - 0s 22us/sample - loss: 0.0765 - acc: 0.9910\n",
      "27/27 [==============================] - 10s 368ms/step - loss: 0.0946 - acc: 0.9874 - val_loss: 0.0765 - val_acc: 0.9910\n",
      "Epoch 7/80\n",
      "6000/6000 [==============================] - 0s 22us/sample - loss: 0.0690 - acc: 0.9913\n",
      "27/27 [==============================] - 10s 379ms/step - loss: 0.0886 - acc: 0.9888 - val_loss: 0.0691 - val_acc: 0.9913\n",
      "Epoch 8/80\n",
      "6000/6000 [==============================] - 0s 21us/sample - loss: 0.0657 - acc: 0.9920\n",
      "\n",
      "Epoch 00008: ReduceLROnPlateau reducing learning rate to 0.0007000000332482159.\n",
      "27/27 [==============================] - 10s 382ms/step - loss: 0.0856 - acc: 0.9891 - val_loss: 0.0658 - val_acc: 0.9920\n",
      "Epoch 9/80\n",
      "6000/6000 [==============================] - 0s 23us/sample - loss: 0.0541 - acc: 0.9953\n",
      "27/27 [==============================] - 10s 362ms/step - loss: 0.0836 - acc: 0.9896 - val_loss: 0.0542 - val_acc: 0.9953\n",
      "Epoch 10/80\n",
      "6000/6000 [==============================] - 0s 23us/sample - loss: 0.0560 - acc: 0.9945\n",
      "27/27 [==============================] - 10s 376ms/step - loss: 0.0790 - acc: 0.9906 - val_loss: 0.0562 - val_acc: 0.9945\n",
      "Epoch 11/80\n",
      "6000/6000 [==============================] - 0s 21us/sample - loss: 0.0563 - acc: 0.9952\n",
      "27/27 [==============================] - 10s 375ms/step - loss: 0.0754 - acc: 0.9907 - val_loss: 0.0565 - val_acc: 0.9952\n",
      "Epoch 12/80\n",
      "6000/6000 [==============================] - 0s 22us/sample - loss: 0.0523 - acc: 0.9953\n",
      "\n",
      "Epoch 00012: ReduceLROnPlateau reducing learning rate to 0.0004900000232737511.\n",
      "27/27 [==============================] - 10s 377ms/step - loss: 0.0753 - acc: 0.9917 - val_loss: 0.0524 - val_acc: 0.9953\n",
      "Epoch 13/80\n",
      "6000/6000 [==============================] - 0s 22us/sample - loss: 0.0561 - acc: 0.9950\n",
      "27/27 [==============================] - 10s 383ms/step - loss: 0.0746 - acc: 0.9914 - val_loss: 0.0562 - val_acc: 0.9950\n",
      "Epoch 14/80\n",
      "6000/6000 [==============================] - 0s 23us/sample - loss: 0.0531 - acc: 0.9950\n",
      "27/27 [==============================] - 10s 379ms/step - loss: 0.0711 - acc: 0.9921 - val_loss: 0.0533 - val_acc: 0.9950\n",
      "Epoch 15/80\n",
      "6000/6000 [==============================] - 0s 22us/sample - loss: 0.0554 - acc: 0.9957\n",
      "27/27 [==============================] - 10s 375ms/step - loss: 0.0691 - acc: 0.9925 - val_loss: 0.0555 - val_acc: 0.9957\n",
      "Epoch 16/80\n",
      "6000/6000 [==============================] - 0s 22us/sample - loss: 0.0498 - acc: 0.9957\n",
      "27/27 [==============================] - 10s 372ms/step - loss: 0.0698 - acc: 0.9923 - val_loss: 0.0501 - val_acc: 0.9957\n",
      "Epoch 17/80\n",
      "6000/6000 [==============================] - 0s 24us/sample - loss: 0.0503 - acc: 0.9953\n",
      "27/27 [==============================] - 10s 380ms/step - loss: 0.0687 - acc: 0.9925 - val_loss: 0.0505 - val_acc: 0.9953\n",
      "Epoch 18/80\n",
      "6000/6000 [==============================] - 0s 23us/sample - loss: 0.0497 - acc: 0.9960\n",
      "27/27 [==============================] - 10s 371ms/step - loss: 0.0681 - acc: 0.9926 - val_loss: 0.0498 - val_acc: 0.9960\n",
      "Epoch 19/80\n",
      "6000/6000 [==============================] - 0s 22us/sample - loss: 0.0519 - acc: 0.9960\n",
      "27/27 [==============================] - 10s 370ms/step - loss: 0.0671 - acc: 0.9926 - val_loss: 0.0520 - val_acc: 0.9960\n",
      "Epoch 20/80\n",
      "6000/6000 [==============================] - 0s 21us/sample - loss: 0.0510 - acc: 0.9945\n",
      "27/27 [==============================] - 10s 384ms/step - loss: 0.0676 - acc: 0.9927 - val_loss: 0.0511 - val_acc: 0.9945\n",
      "Epoch 21/80\n",
      "6000/6000 [==============================] - 0s 22us/sample - loss: 0.0477 - acc: 0.9963\n",
      "27/27 [==============================] - 10s 374ms/step - loss: 0.0665 - acc: 0.9931 - val_loss: 0.0478 - val_acc: 0.9963\n",
      "Epoch 22/80\n",
      "6000/6000 [==============================] - 0s 22us/sample - loss: 0.0609 - acc: 0.9927\n",
      "27/27 [==============================] - 10s 375ms/step - loss: 0.0664 - acc: 0.9927 - val_loss: 0.0610 - val_acc: 0.9927\n",
      "Epoch 23/80\n",
      "6000/6000 [==============================] - 0s 23us/sample - loss: 0.0529 - acc: 0.9950\n",
      "27/27 [==============================] - 10s 374ms/step - loss: 0.0642 - acc: 0.9932 - val_loss: 0.0530 - val_acc: 0.9950\n",
      "Epoch 24/80\n",
      "6000/6000 [==============================] - 0s 22us/sample - loss: 0.0518 - acc: 0.9953\n",
      "\n",
      "Epoch 00024: ReduceLROnPlateau reducing learning rate to 0.00034300000406801696.\n",
      "27/27 [==============================] - 10s 375ms/step - loss: 0.0620 - acc: 0.9937 - val_loss: 0.0520 - val_acc: 0.9953\n",
      "Epoch 25/80\n",
      "6000/6000 [==============================] - 0s 22us/sample - loss: 0.0481 - acc: 0.9960\n",
      "27/27 [==============================] - 10s 375ms/step - loss: 0.0628 - acc: 0.9935 - val_loss: 0.0483 - val_acc: 0.9960\n",
      "Epoch 26/80\n",
      "6000/6000 [==============================] - 0s 23us/sample - loss: 0.0511 - acc: 0.9948\n",
      "27/27 [==============================] - 10s 371ms/step - loss: 0.0626 - acc: 0.9933 - val_loss: 0.0512 - val_acc: 0.9948\n",
      "Epoch 27/80\n",
      "6000/6000 [==============================] - 0s 23us/sample - loss: 0.0468 - acc: 0.9958\n",
      "\n",
      "Epoch 00027: ReduceLROnPlateau reducing learning rate to 0.00024009999469853935.\n",
      "27/27 [==============================] - 10s 371ms/step - loss: 0.0615 - acc: 0.9938 - val_loss: 0.0470 - val_acc: 0.9958\n",
      "Epoch 28/80\n",
      "6000/6000 [==============================] - 0s 22us/sample - loss: 0.0473 - acc: 0.9957\n",
      "27/27 [==============================] - 10s 366ms/step - loss: 0.0614 - acc: 0.9942 - val_loss: 0.0475 - val_acc: 0.9957\n",
      "Epoch 29/80\n",
      "6000/6000 [==============================] - 0s 21us/sample - loss: 0.0470 - acc: 0.9963\n",
      "27/27 [==============================] - 10s 371ms/step - loss: 0.0595 - acc: 0.9946 - val_loss: 0.0472 - val_acc: 0.9963\n",
      "Epoch 30/80\n",
      "6000/6000 [==============================] - 0s 22us/sample - loss: 0.0471 - acc: 0.9962\n",
      "\n",
      "Epoch 00030: ReduceLROnPlateau reducing learning rate to 0.00016806999628897755.\n",
      "27/27 [==============================] - 10s 371ms/step - loss: 0.0597 - acc: 0.9943 - val_loss: 0.0472 - val_acc: 0.9962\n",
      "Epoch 31/80\n",
      "6000/6000 [==============================] - 0s 21us/sample - loss: 0.0463 - acc: 0.9967\n",
      "27/27 [==============================] - 10s 364ms/step - loss: 0.0583 - acc: 0.9943 - val_loss: 0.0465 - val_acc: 0.9967\n",
      "Epoch 32/80\n",
      "6000/6000 [==============================] - 0s 22us/sample - loss: 0.0467 - acc: 0.9962\n",
      "27/27 [==============================] - 10s 369ms/step - loss: 0.0573 - acc: 0.9944 - val_loss: 0.0469 - val_acc: 0.9962\n",
      "Epoch 33/80\n",
      "6000/6000 [==============================] - 0s 22us/sample - loss: 0.0477 - acc: 0.9957\n",
      "27/27 [==============================] - 10s 377ms/step - loss: 0.0564 - acc: 0.9950 - val_loss: 0.0479 - val_acc: 0.9957\n",
      "Epoch 34/80\n",
      "6000/6000 [==============================] - 0s 22us/sample - loss: 0.0471 - acc: 0.9967\n",
      "\n",
      "Epoch 00034: ReduceLROnPlateau reducing learning rate to 0.00011764899536501615.\n",
      "27/27 [==============================] - 10s 371ms/step - loss: 0.0580 - acc: 0.9944 - val_loss: 0.0473 - val_acc: 0.9967\n",
      "Epoch 35/80\n",
      "6000/6000 [==============================] - 0s 21us/sample - loss: 0.0466 - acc: 0.9963\n",
      "27/27 [==============================] - 10s 368ms/step - loss: 0.0567 - acc: 0.9948 - val_loss: 0.0469 - val_acc: 0.9963\n"
     ]
    },
    {
     "name": "stdout",
     "output_type": "stream",
     "text": [
      "Epoch 36/80\n",
      "6000/6000 [==============================] - 0s 21us/sample - loss: 0.0464 - acc: 0.9965\n",
      "27/27 [==============================] - 10s 367ms/step - loss: 0.0553 - acc: 0.9951 - val_loss: 0.0466 - val_acc: 0.9965\n",
      "Epoch 37/80\n",
      "6000/6000 [==============================] - 0s 22us/sample - loss: 0.0463 - acc: 0.9967\n",
      "\n",
      "Epoch 00037: ReduceLROnPlateau reducing learning rate to 8.235429777414538e-05.\n",
      "27/27 [==============================] - 10s 374ms/step - loss: 0.0561 - acc: 0.9950 - val_loss: 0.0465 - val_acc: 0.9967\n",
      "Epoch 38/80\n",
      "6000/6000 [==============================] - 0s 21us/sample - loss: 0.0464 - acc: 0.9967\n",
      "27/27 [==============================] - 10s 373ms/step - loss: 0.0564 - acc: 0.9950 - val_loss: 0.0466 - val_acc: 0.9967\n",
      "Epoch 39/80\n",
      "6000/6000 [==============================] - 0s 23us/sample - loss: 0.0468 - acc: 0.9967\n",
      "27/27 [==============================] - 10s 370ms/step - loss: 0.0560 - acc: 0.9947 - val_loss: 0.0470 - val_acc: 0.9967\n",
      "Epoch 40/80\n",
      "6000/6000 [==============================] - 0s 21us/sample - loss: 0.0464 - acc: 0.9963\n",
      "\n",
      "Epoch 00040: ReduceLROnPlateau reducing learning rate to 5.76480058953166e-05.\n",
      "27/27 [==============================] - 10s 375ms/step - loss: 0.0560 - acc: 0.9950 - val_loss: 0.0466 - val_acc: 0.9963\n",
      "Epoch 41/80\n",
      "6000/6000 [==============================] - 0s 22us/sample - loss: 0.0463 - acc: 0.9965\n",
      "27/27 [==============================] - 10s 371ms/step - loss: 0.0561 - acc: 0.9949 - val_loss: 0.0465 - val_acc: 0.9965\n",
      "Epoch 42/80\n",
      "6000/6000 [==============================] - 0s 21us/sample - loss: 0.0462 - acc: 0.9965\n",
      "27/27 [==============================] - 10s 369ms/step - loss: 0.0548 - acc: 0.9953 - val_loss: 0.0464 - val_acc: 0.9965\n",
      "Epoch 43/80\n",
      "6000/6000 [==============================] - 0s 22us/sample - loss: 0.0461 - acc: 0.9965\n",
      "\n",
      "Epoch 00043: ReduceLROnPlateau reducing learning rate to 4.0353603617404586e-05.\n",
      "27/27 [==============================] - 10s 369ms/step - loss: 0.0538 - acc: 0.9951 - val_loss: 0.0463 - val_acc: 0.9965\n",
      "Epoch 44/80\n",
      "6000/6000 [==============================] - 0s 22us/sample - loss: 0.0461 - acc: 0.9967\n",
      "27/27 [==============================] - 10s 369ms/step - loss: 0.0559 - acc: 0.9950 - val_loss: 0.0463 - val_acc: 0.9967\n",
      "Epoch 45/80\n",
      "6000/6000 [==============================] - 0s 22us/sample - loss: 0.0459 - acc: 0.9963\n",
      "27/27 [==============================] - 10s 374ms/step - loss: 0.0550 - acc: 0.9949 - val_loss: 0.0461 - val_acc: 0.9963\n",
      "Epoch 46/80\n",
      "6000/6000 [==============================] - 0s 22us/sample - loss: 0.0462 - acc: 0.9963\n",
      "\n",
      "Epoch 00046: ReduceLROnPlateau reducing learning rate to 2.8247522277524694e-05.\n",
      "27/27 [==============================] - 10s 379ms/step - loss: 0.0556 - acc: 0.9949 - val_loss: 0.0464 - val_acc: 0.9963\n",
      "Epoch 47/80\n",
      "6000/6000 [==============================] - 0s 46us/sample - loss: 0.0460 - acc: 0.9963\n",
      "27/27 [==============================] - 10s 375ms/step - loss: 0.0551 - acc: 0.9949 - val_loss: 0.0461 - val_acc: 0.9963\n",
      "Epoch 48/80\n",
      "6000/6000 [==============================] - 0s 23us/sample - loss: 0.0459 - acc: 0.9962\n",
      "27/27 [==============================] - 10s 368ms/step - loss: 0.0574 - acc: 0.9949 - val_loss: 0.0461 - val_acc: 0.9962\n",
      "Epoch 49/80\n",
      "6000/6000 [==============================] - 0s 23us/sample - loss: 0.0459 - acc: 0.9963\n",
      "\n",
      "Epoch 00049: ReduceLROnPlateau reducing learning rate to 1.977326610358432e-05.\n",
      "27/27 [==============================] - 10s 370ms/step - loss: 0.0564 - acc: 0.9944 - val_loss: 0.0461 - val_acc: 0.9963\n",
      "Epoch 50/80\n",
      "6000/6000 [==============================] - 0s 21us/sample - loss: 0.0462 - acc: 0.9965\n",
      "27/27 [==============================] - 10s 368ms/step - loss: 0.0543 - acc: 0.9952 - val_loss: 0.0464 - val_acc: 0.9965\n",
      "Epoch 51/80\n",
      "6000/6000 [==============================] - 0s 22us/sample - loss: 0.0461 - acc: 0.9965\n",
      "27/27 [==============================] - 10s 371ms/step - loss: 0.0545 - acc: 0.9952 - val_loss: 0.0463 - val_acc: 0.9965\n",
      "Epoch 52/80\n",
      "6000/6000 [==============================] - 0s 22us/sample - loss: 0.0461 - acc: 0.9965\n",
      "\n",
      "Epoch 00052: ReduceLROnPlateau reducing learning rate to 1.3841286272509023e-05.\n",
      "27/27 [==============================] - 10s 368ms/step - loss: 0.0568 - acc: 0.9948 - val_loss: 0.0463 - val_acc: 0.9965\n",
      "Epoch 53/80\n",
      "6000/6000 [==============================] - 0s 21us/sample - loss: 0.0459 - acc: 0.9965\n",
      "27/27 [==============================] - 10s 377ms/step - loss: 0.0536 - acc: 0.9952 - val_loss: 0.0461 - val_acc: 0.9965\n",
      "Epoch 54/80\n",
      "6000/6000 [==============================] - 0s 26us/sample - loss: 0.0458 - acc: 0.9963\n",
      "27/27 [==============================] - 10s 371ms/step - loss: 0.0549 - acc: 0.9953 - val_loss: 0.0459 - val_acc: 0.9963\n",
      "Epoch 55/80\n",
      "6000/6000 [==============================] - 0s 22us/sample - loss: 0.0459 - acc: 0.9963\n",
      "\n",
      "Epoch 00055: ReduceLROnPlateau reducing learning rate to 1e-05.\n",
      "27/27 [==============================] - 10s 371ms/step - loss: 0.0554 - acc: 0.9953 - val_loss: 0.0461 - val_acc: 0.9963\n",
      "Epoch 56/80\n",
      "6000/6000 [==============================] - 0s 21us/sample - loss: 0.0460 - acc: 0.9965\n",
      "27/27 [==============================] - 10s 369ms/step - loss: 0.0559 - acc: 0.9952 - val_loss: 0.0462 - val_acc: 0.9965\n",
      "Epoch 57/80\n",
      "6000/6000 [==============================] - 0s 22us/sample - loss: 0.0460 - acc: 0.9967\n",
      "27/27 [==============================] - 10s 371ms/step - loss: 0.0548 - acc: 0.9950 - val_loss: 0.0462 - val_acc: 0.9967\n",
      "Epoch 58/80\n",
      "6000/6000 [==============================] - 0s 21us/sample - loss: 0.0459 - acc: 0.9965\n",
      "27/27 [==============================] - 10s 365ms/step - loss: 0.0538 - acc: 0.9953 - val_loss: 0.0461 - val_acc: 0.9965\n",
      "Epoch 59/80\n",
      "6000/6000 [==============================] - 0s 23us/sample - loss: 0.0460 - acc: 0.9965\n",
      "27/27 [==============================] - 10s 369ms/step - loss: 0.0549 - acc: 0.9951 - val_loss: 0.0462 - val_acc: 0.9965\n",
      "Epoch 60/80\n",
      "6000/6000 [==============================] - 0s 22us/sample - loss: 0.0459 - acc: 0.9967\n",
      "27/27 [==============================] - 10s 380ms/step - loss: 0.0528 - acc: 0.9956 - val_loss: 0.0461 - val_acc: 0.9967\n",
      "Epoch 61/80\n",
      "6000/6000 [==============================] - 0s 23us/sample - loss: 0.0459 - acc: 0.9967\n",
      "27/27 [==============================] - 10s 375ms/step - loss: 0.0535 - acc: 0.9955 - val_loss: 0.0461 - val_acc: 0.9967\n",
      "Epoch 62/80\n",
      "6000/6000 [==============================] - 0s 21us/sample - loss: 0.0458 - acc: 0.9967\n",
      "27/27 [==============================] - 10s 367ms/step - loss: 0.0549 - acc: 0.9951 - val_loss: 0.0460 - val_acc: 0.9967\n",
      "Epoch 63/80\n",
      "6000/6000 [==============================] - 0s 23us/sample - loss: 0.0459 - acc: 0.9965\n",
      "27/27 [==============================] - 10s 376ms/step - loss: 0.0545 - acc: 0.9955 - val_loss: 0.0461 - val_acc: 0.9965\n",
      "Epoch 64/80\n",
      "6000/6000 [==============================] - 0s 22us/sample - loss: 0.0459 - acc: 0.9963\n",
      "27/27 [==============================] - 10s 382ms/step - loss: 0.0534 - acc: 0.9955 - val_loss: 0.0461 - val_acc: 0.9963\n",
      "Epoch 65/80\n",
      "6000/6000 [==============================] - 0s 22us/sample - loss: 0.0458 - acc: 0.9963\n",
      "27/27 [==============================] - 10s 369ms/step - loss: 0.0545 - acc: 0.9951 - val_loss: 0.0460 - val_acc: 0.9963\n",
      "Epoch 66/80\n",
      "6000/6000 [==============================] - 0s 26us/sample - loss: 0.0458 - acc: 0.9965\n",
      "27/27 [==============================] - 10s 382ms/step - loss: 0.0538 - acc: 0.9954 - val_loss: 0.0459 - val_acc: 0.9965\n",
      "Epoch 67/80\n",
      "6000/6000 [==============================] - 0s 23us/sample - loss: 0.0460 - acc: 0.9965\n",
      "27/27 [==============================] - 10s 387ms/step - loss: 0.0540 - acc: 0.9951 - val_loss: 0.0462 - val_acc: 0.9965\n",
      "Epoch 68/80\n",
      "6000/6000 [==============================] - 0s 23us/sample - loss: 0.0460 - acc: 0.9965\n",
      "27/27 [==============================] - 10s 386ms/step - loss: 0.0530 - acc: 0.9954 - val_loss: 0.0462 - val_acc: 0.9965\n",
      "Epoch 69/80\n",
      "6000/6000 [==============================] - 0s 22us/sample - loss: 0.0461 - acc: 0.9967\n",
      "27/27 [==============================] - 10s 387ms/step - loss: 0.0544 - acc: 0.9955 - val_loss: 0.0463 - val_acc: 0.9967\n",
      "Epoch 70/80\n"
     ]
    },
    {
     "name": "stdout",
     "output_type": "stream",
     "text": [
      "6000/6000 [==============================] - 0s 21us/sample - loss: 0.0461 - acc: 0.9965\n",
      "27/27 [==============================] - 11s 392ms/step - loss: 0.0523 - acc: 0.9956 - val_loss: 0.0463 - val_acc: 0.9965\n",
      "Epoch 71/80\n",
      "6000/6000 [==============================] - 0s 23us/sample - loss: 0.0460 - acc: 0.9965\n",
      "27/27 [==============================] - 11s 397ms/step - loss: 0.0525 - acc: 0.9954 - val_loss: 0.0462 - val_acc: 0.9965\n",
      "Epoch 72/80\n",
      "6000/6000 [==============================] - 0s 21us/sample - loss: 0.0459 - acc: 0.9965\n",
      "27/27 [==============================] - 10s 379ms/step - loss: 0.0553 - acc: 0.9950 - val_loss: 0.0461 - val_acc: 0.9965\n",
      "Epoch 73/80\n",
      "6000/6000 [==============================] - 0s 23us/sample - loss: 0.0460 - acc: 0.9965\n",
      "27/27 [==============================] - 10s 383ms/step - loss: 0.0535 - acc: 0.9954 - val_loss: 0.0462 - val_acc: 0.9965\n",
      "Epoch 74/80\n",
      "6000/6000 [==============================] - 0s 22us/sample - loss: 0.0459 - acc: 0.9965\n",
      "27/27 [==============================] - 10s 367ms/step - loss: 0.0538 - acc: 0.9953 - val_loss: 0.0461 - val_acc: 0.9965\n",
      "Epoch 75/80\n",
      "6000/6000 [==============================] - 0s 22us/sample - loss: 0.0459 - acc: 0.9963\n",
      "27/27 [==============================] - 10s 367ms/step - loss: 0.0543 - acc: 0.9951 - val_loss: 0.0461 - val_acc: 0.9963\n",
      "Epoch 76/80\n",
      "6000/6000 [==============================] - 0s 22us/sample - loss: 0.0459 - acc: 0.9963\n",
      "27/27 [==============================] - 10s 368ms/step - loss: 0.0522 - acc: 0.9956 - val_loss: 0.0461 - val_acc: 0.9963\n",
      "Epoch 77/80\n",
      "6000/6000 [==============================] - 0s 22us/sample - loss: 0.0460 - acc: 0.9965\n",
      "27/27 [==============================] - 10s 376ms/step - loss: 0.0541 - acc: 0.9955 - val_loss: 0.0462 - val_acc: 0.9965\n",
      "Epoch 78/80\n",
      "6000/6000 [==============================] - 0s 22us/sample - loss: 0.0460 - acc: 0.9965\n",
      "27/27 [==============================] - 10s 374ms/step - loss: 0.0533 - acc: 0.9953 - val_loss: 0.0462 - val_acc: 0.9965\n",
      "Epoch 79/80\n",
      "6000/6000 [==============================] - 0s 23us/sample - loss: 0.0460 - acc: 0.9965\n",
      "27/27 [==============================] - 10s 371ms/step - loss: 0.0551 - acc: 0.9952 - val_loss: 0.0462 - val_acc: 0.9965\n",
      "Epoch 80/80\n",
      "6000/6000 [==============================] - 0s 23us/sample - loss: 0.0460 - acc: 0.9965\n",
      "27/27 [==============================] - 10s 378ms/step - loss: 0.0532 - acc: 0.9958 - val_loss: 0.0462 - val_acc: 0.9965\n"
     ]
    }
   ],
   "source": [
    "gen = ImageDataGenerator(rotation_range = 10,\n",
    "                        width_shift_range = 0.2,\n",
    "                        height_shift_range = 0.2,\n",
    "                        shear_range = 0.3,\n",
    "                        zoom_range = 0.2,\n",
    "                        data_format = 'channels_last',)\n",
    "gen.fit(x_train)\n",
    "train_generator = gen.flow(x_train, y_train, batch_size=2048)\n",
    "history = model1.fit(train_generator,\n",
    "                    epochs = 80,\n",
    "                    validation_data = (x_val, y_val),\n",
    "                    callbacks=[lr])"
   ]
  },
  {
   "cell_type": "code",
   "execution_count": 23,
   "metadata": {},
   "outputs": [
    {
     "data": {
      "text/plain": [
       "0.996"
      ]
     },
     "execution_count": 23,
     "metadata": {},
     "output_type": "execute_result"
    }
   ],
   "source": [
    "y_test_predict = model1.predict(x_test)\n",
    "y_label_pre = np.argmax(y_test_predict, axis=-1)\n",
    "test_acc = np.sum((y_label_pre==np.argmax(y_test, axis=-1)).astype(int))/y_label_pre.shape[0]\n",
    "test_acc"
   ]
  },
  {
   "cell_type": "code",
   "execution_count": 25,
   "metadata": {},
   "outputs": [],
   "source": [
    "model1.save('D:/AI/workspace/CV/CS231N/model.h5')\n",
    "new_model = K.models.load_model('D:/AI/workspace/CV/CS231N/model.h5')"
   ]
  }
 ],
 "metadata": {
  "kernelspec": {
   "display_name": "Python [conda env:CV-ND] *",
   "language": "python",
   "name": "conda-env-CV-ND-py"
  },
  "language_info": {
   "codemirror_mode": {
    "name": "ipython",
    "version": 3
   },
   "file_extension": ".py",
   "mimetype": "text/x-python",
   "name": "python",
   "nbconvert_exporter": "python",
   "pygments_lexer": "ipython3",
   "version": "3.7.3"
  }
 },
 "nbformat": 4,
 "nbformat_minor": 1
}
